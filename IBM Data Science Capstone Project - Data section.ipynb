{
 "cells": [
  {
   "cell_type": "markdown",
   "metadata": {},
   "source": [
    "# 2. Data Section"
   ]
  },
  {
   "cell_type": "markdown",
   "metadata": {},
   "source": [
    "For the analysis we need data from reliable sources. \n",
    "\n",
    "1. List of districts and information of interest of the city of Lima.\n",
    "    \n",
    "    It is important to have a list of districts as well as statistical information on tourism and places of interest.\n",
    "\n",
    "\n",
    "2. Foursquare Developers Access to venue data: https://foursquare.com/\n",
    "\n",
    "    The main tool to determine the location of bars and hotels to be analyzed.\n",
    "\n",
    "\n",
    "3. geopy geocoders for the geolocation of the districts: https://pypi.org/project/geopy/\n",
    "\n",
    "    For a good analysis, it is necessary to have the exact coordinates of the places defined by the project."
   ]
  }
 ],
 "metadata": {
  "kernelspec": {
   "display_name": "Python 3",
   "language": "python",
   "name": "python3"
  },
  "language_info": {
   "codemirror_mode": {
    "name": "ipython",
    "version": 3
   },
   "file_extension": ".py",
   "mimetype": "text/x-python",
   "name": "python",
   "nbconvert_exporter": "python",
   "pygments_lexer": "ipython3",
   "version": "3.7.6"
  }
 },
 "nbformat": 4,
 "nbformat_minor": 4
}
