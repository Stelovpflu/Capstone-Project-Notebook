{
 "cells": [
  {
   "cell_type": "markdown",
   "metadata": {},
   "source": [
    "# 1. Introduction and Business Problem"
   ]
  },
  {
   "cell_type": "markdown",
   "metadata": {},
   "source": [
    "The project takes place in Lima. Lima is the capital and the largest city of Peru, where almost 10 million people live. Lima is located on the central coast of the country, overlooking the Pacific Ocean [1](https://en.wikipedia.org/wiki/Lima). In 2018, of the total of foreign tourists who visited Peru, 72.4% visited Lima, the main places visited by foreigners being Miraflores: 69.1%, Downtown Lima: 62.7%, Barranco: 26.7% and San Isidro : 18.9% [2](https://www.mincetur.gob.pe/wp-content/uploads/documentos/turismo/estadisticas/ReporteTurismoRegional/RTR_Lima_2018.pdf).\n",
    "\n",
    "The purpose of this project is to find the most appropriate place for a thematic bar mainly focused on tourists. It has to be close to points of interest or hotels and away from other bars. Lima has 43 districts, two of them are the districts of interest selected, Miraflores and Barranco for being the most striking tourist districts for their cultural diversity, services, and entertainment as well as their magnificent view of the coast.\n",
    "\n",
    "Considering the requirements we can create a map to obtain the best solution.\n",
    "   "
   ]
  }
 ],
 "metadata": {
  "kernelspec": {
   "display_name": "Python 3",
   "language": "python",
   "name": "python3"
  },
  "language_info": {
   "codemirror_mode": {
    "name": "ipython",
    "version": 3
   },
   "file_extension": ".py",
   "mimetype": "text/x-python",
   "name": "python",
   "nbconvert_exporter": "python",
   "pygments_lexer": "ipython3",
   "version": "3.7.6"
  }
 },
 "nbformat": 4,
 "nbformat_minor": 4
}
